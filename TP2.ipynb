{
  "cells": [
    {
      "cell_type": "markdown",
      "metadata": {},
      "source": [
        "# TP2 : Traitement Batch avec Hadoop Streaming\n",
        "\n",
        "## Prérequis\n",
        "- Installer Python sur tous les nœuds du cluster.\n",
        "\n",
        "---\n",
        "\n",
        "## Partie 2 : Exécution d'un job avec Hadoop Streaming\n",
        "\n",
        "### Exemple : WordCount\n",
        "\n",
        "Nous allons coder un exemple de WordCount pour compter le nombre de fois que chaque mot apparaît dans un ensemble de fichiers texte.\n",
        "\n",
        "### Mapper : mapperWC.py\n",
        "Créez un fichier `mapperWC.py` avec le code suivant :\n"
      ]
    },
    {
      "cell_type": "code",
      "execution_count": null,
      "id": "775ab0b0",
      "metadata": {
        "language": "python"
      },
      "outputs": [],
      "source": [
        "\n",
        "# mapperWC.py\n",
        "import sys\n",
        "\n",
        "\n",
        "for line in sys.stdin:\n",
        "    line = line.strip()\n",
        "    words = line.split()\n",
        "    for word in words:\n",
        "        print(f'{word}\t1')\n"
      ]
    },
    {
      "cell_type": "markdown",
      "id": "1c51bdba",
      "metadata": {},
      "source": [
        "### Reducer : reducerWC.py\n",
        "Créez un fichier `reducerWC.py` avec le code suivant :\n"
      ]
    },
    {
      "cell_type": "code",
      "execution_count": null,
      "id": "53519190",
      "metadata": {
        "language": "python"
      },
      "outputs": [],
      "source": [
        "# reducerWC.py\n",
        "import sys\n",
        "\n",
        "current_word = None\n",
        "current_count = 0\n",
        "\n",
        "for line in sys.stdin:\n",
        "    line = line.strip()\n",
        "    word, count = line.split('\t', 1)\n",
        "    try:\n",
        "        count = int(count)\n",
        "    except ValueError:\n",
        "        continue\n",
        "    if current_word == word:\n",
        "        current_count += count\n",
        "    else:\n",
        "        if current_word:\n",
        "            print(f'{current_word}\t{current_count}')\n",
        "        current_word = word\n",
        "        current_count = count\n",
        "\n",
        "if current_word == word:\n",
        "    print(f'{current_word}\t{current_count}')\n"
      ]
    },
    {
      "cell_type": "markdown",
      "id": "1c58fd70",
      "metadata": {},
      "source": [
        "---\n",
        "\n",
        "## Exécution locale\n",
        "\n",
        "1. Créez un fichier `input.txt` contenant un texte.\n",
        "2. Exécutez la commande suivante dans un terminal :\n",
        "\n",
        "```bash\n",
        "cat input.txt | python mapperWC.py | sort | python reducerWC.py\n",
        "```\n",
        "\n",
        "## Exécution sur le cluster Hadoop\n",
        "\n",
        "1. Transférez les scripts :\n",
        "\n",
        "```bash\n",
        "docker cp mapperWC.py namenode:/mapperWC.py\n",
        "docker cp reducerWC.py namenode:/reducerWC.py\n",
        "```\n",
        "\n",
        "2. Accédez au container du namenode et rendez les scripts exécutables :\n",
        "\n",
        "```bash\n",
        "docker exec -it namenode bash\n",
        "chmod u+x mapperWC.py\n",
        "chmod u+x reducerWC.py\n",
        "```\n",
        "\n",
        "3. Créez un répertoire d'entrée dans HDFS et y placer le fichier `input.txt` :\n",
        "\n",
        "```bash\n",
        "hdfs dfs -mkdir -p /user/hadoop/input\n",
        "hdfs dfs -put input.txt /user/hadoop/input\n",
        "```\n",
        "\n",
        "4. Exécutez le job Hadoop Streaming :\n",
        "\n",
        "```bash\n",
        "hadoop jar /usr/lib/hadoop-mapreduce/hadoop-streaming.jar \\\n",
        "    -input /user/hadoop/input \\\n",
        "    -output /user/hadoop/output \\\n",
        "    -mapper /mapperWC.py \\\n",
        "    -reducer /reducerWC.py\n",
        "```\n",
        "\n",
        "5. Affichez les résultats :\n",
        "\n",
        "```bash\n",
        "hdfs dfs -cat /user/hadoop/output/part-00000\n",
        "```\n",
        "\n",
        "6. Nettoyez les fichiers de sortie :\n",
        "\n",
        "```bash\n",
        "hdfs dfs -rm -r /user/hadoop/output\n",
        "```\n"
      ]
    }
  ],
  "metadata": {
    "kernelspec": {
      "display_name": "Python 3",
      "language": "python",
      "name": "python3"
    },
    "language_info": {
      "codemirror_mode": {
        "name": "ipython",
        "version": 3
      },
      "file_extension": ".py",
      "mimetype": "text/x-python",
      "name": "python",
      "nbconvert_exporter": "python",
      "pygments_lexer": "ipython3",
      "version": "3.8.10"
    }
  },
  "nbformat": 4,
  "nbformat_minor": 5
}
