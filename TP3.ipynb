{
  "cells": [
    {
      "cell_type": "markdown",
      "id": "3bfc92fb",
      "metadata": {},
      "source": [
        "# TP3 : Hadoop MAP/REDUCE - Big Data\n"
      ]
    },
    {
      "cell_type": "markdown",
      "id": "14b7d91c",
      "metadata": {},
      "source": [
        "## Exercice 1 : Anagrammes\n",
        "On dispose d’un fichier texte contenant une liste de mots. L'objectif est de déterminer quels mots sont des anagrammes.\n",
        "- Exemple : `crane` et `ancre` sont des anagrammes.\n",
        "\n",
        "### Donnée en entrée :\n",
        "```\n",
        "crane\n",
        "imaginer\n",
        "surface\n",
        "metropole\n",
        "migraine\n",
        "structure\n",
        "ancre\n",
        "```\n",
        "\n",
        "### Résultat attendu :\n",
        "```\n",
        "crane ancre\n",
        "imaginer migraine\n",
        "```"
      ]
    },
    {
      "cell_type": "code",
      "execution_count": null,
      "id": "f35d2cf2",
      "metadata": {
        "vscode": {
          "languageId": "plaintext"
        }
      },
      "outputs": [],
      "source": []
    },
    {
      "cell_type": "markdown",
      "id": "a114bc12",
      "metadata": {},
      "source": [
        "## Exercice 2 : Analyse des sentiments des clients sur Twitter\n",
        "\n",
        "Une entreprise souhaite analyser les tweets de ses clients pour déterminer leur taux de satisfaction.\n",
        "\n",
        "### Données en entrée :\n",
        "```\n",
        "@acme Votre service client est nul\n",
        "@acme 30min d'attente... très insatisfait\n",
        "Très satisfait par un produit super !! @acme\n",
        "merci d'avoir RT @acme\n",
        "@acme produit déjà cassé, super insatisfait !\n",
        "```\n",
        "\n",
        "### Résultat attendu :\n",
        "```\n",
        "(insatisfait,2)\n",
        "(satisfait,1)\n",
        "(inconcluant,2)\n",
        "```"
      ]
    },
    {
      "cell_type": "markdown",
      "id": "57b9c879",
      "metadata": {},
      "source": [
        "## Exercice 3 : Index web inversé\n",
        "\n",
        "L'objectif est de générer un index web inversé à partir d'un ensemble de pages web.\n",
        "\n",
        "### Données en entrée :\n",
        "```\n",
        "P1:P2,P3\n",
        "P2:P1,P4\n",
        "P3:P1,P4\n",
        "P4:P1,P2,P3\n",
        "```\n",
        "\n",
        "### Résultat attendu :\n",
        "```\n",
        "P1: P2, P3, P4\n",
        "P2: P1, P4\n",
        "P3: P1, P4\n",
        "P4: P1, P2, P3\n",
        "```"
      ]
    }
  ],
  "metadata": {
    "kernelspec": {
      "display_name": "Python 3",
      "language": "python",
      "name": "python3"
    },
    "language_info": {
      "codemirror_mode": {
        "name": "ipython",
        "version": 3
      },
      "file_extension": ".py",
      "mimetype": "text/x-python",
      "name": "python",
      "nbconvert_exporter": "python",
      "pygments_lexer": "ipython3",
      "version": "3.8"
    }
  },
  "nbformat": 4,
  "nbformat_minor": 5
}
