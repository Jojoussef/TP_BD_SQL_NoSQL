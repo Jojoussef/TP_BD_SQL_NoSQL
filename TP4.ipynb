{
 "cells": [
  {
   "cell_type": "markdown",
   "id": "bbaadd5d",
   "metadata": {},
   "source": [
    "# TP : MongoDB - Manipulation et Requêtes\n"
   ]
  },
  {
   "cell_type": "markdown",
   "id": "5d44642c",
   "metadata": {},
   "source": [
    "## Exercice 1 : Requêtes de base\n",
    "\n",
    "### 1. Afficher toutes les collections de la base\n",
    "```javascript\n",
    "show collections\n",
    "```\n",
    "\n",
    "### 2. Afficher tous les documents de la collection `employes`\n",
    "```javascript\n",
    "db.employes.find().pretty()\n",
    "```\n",
    "\n",
    "### 3. Compter le nombre de documents\n",
    "```javascript\n",
    "db.employes.count()\n",
    "```"
   ]
  },
  {
   "cell_type": "markdown",
   "id": "fe6c35c6",
   "metadata": {},
   "source": [
    "### 4. Insérer deux employés de deux manières différentes\n",
    "```javascript\n",
    "db.employes.insert({nom: 'Martin', prenom: 'Paul', prime: 500})\n",
    "db.employes.save({nom: 'Dupont', prenom: 'Sophie', anciennete: 3})\n",
    "```"
   ]
  },
  {
   "cell_type": "markdown",
   "id": "a70bcce9",
   "metadata": {},
   "source": [
    "### 5. Liste des employés dont le prénom est David\n",
    "```javascript\n",
    "db.employes.find({prenom: 'David'})\n",
    "```\n",
    "\n",
    "### 6. Liste des employés dont le prénom commence ou finit par D\n",
    "```javascript\n",
    "db.employes.find({prenom: /^D|D$/})\n",
    "```\n",
    "\n",
    "### 7. Liste des employés dont le prénom commence par D et fait 5 lettres\n",
    "```javascript\n",
    "db.employes.find({prenom: /^D.{4}$/})\n",
    "```"
   ]
  },
  {
   "cell_type": "markdown",
   "id": "99743479",
   "metadata": {},
   "source": [
    "## Exercice 2 : Manipulation de documents\n",
    "\n",
    "### 8. Prénom commençant et finissant par une voyelle\n",
    "```javascript\n",
    "db.employes.find({prenom: /^[aeiouAEIOU].*[aeiouAEIOU]$/})\n",
    "```\n",
    "\n",
    "### 9. Prénom commençant et finissant par la même lettre\n",
    "```javascript\n",
    "db.employes.find({prenom: /^(.).*\\1$/})\n",
    "```"
   ]
  },
  {
   "cell_type": "markdown",
   "id": "3fd2835d",
   "metadata": {},
   "source": [
    "### 10. Employés ayant une ancienneté > 10\n",
    "```javascript\n",
    "db.employes.find({anciennete: {$gt: 10}}, {nom: 1, prenom: 1})\n",
    "```\n",
    "\n",
    "### 11. Employés ayant un attribut rue dans adresse\n",
    "```javascript\n",
    "db.employes.find({'adresse.rue': {$exists: true}}, {nom: 1, adresse: 1})\n",
    "```"
   ]
  },
  {
   "cell_type": "markdown",
   "id": "f36cef33",
   "metadata": {},
   "source": [
    "### 12. Incrémenter de 200 la prime existante\n",
    "```javascript\n",
    "db.employes.updateMany({prime: {$exists: true}}, {$inc: {prime: 200}})\n",
    "```\n",
    "\n",
    "### 13. Les 3 employés avec la plus grande ancienneté\n",
    "```javascript\n",
    "db.employes.find().sort({anciennete: -1}).limit(3)\n",
    "```"
   ]
  },
  {
   "cell_type": "markdown",
   "id": "7942daed",
   "metadata": {},
   "source": [
    "## Exercice 3 : Mise à jour et transformation de données\n",
    "\n",
    "### 14. Grouper par ville (Toulouse)\n",
    "```javascript\n",
    "db.employes.aggregate([{$match: {ville: 'Toulouse'}}, {$project: {nom: 1, prenom: 1, anciennete: 1}}])\n",
    "```\n",
    "\n",
    "### 15. Prénom M, ville Foix ou Bordeaux\n",
    "```javascript\n",
    "db.employes.find({prenom: /^M/, ville: {$in: ['Foix', 'Bordeaux']}})\n",
    "```"
   ]
  },
  {
   "cell_type": "markdown",
   "id": "953f42cc",
   "metadata": {},
   "source": [
    "### 16. Mise à jour de l’adresse de Dominique Mani\n",
    "```javascript\n",
    "db.employes.updateOne({nom: 'Mani', prenom: 'Dominique'}, {$set: {adresse: {numero: 20, ville: 'Marseille', codepostal: '13015'}}})\n",
    "```\n",
    "\n",
    "### 17. Prime de 1500 sauf Toulouse, Bordeaux, Paris\n",
    "```javascript\n",
    "db.employes.updateMany({prime: {$exists: false}, ville: {$nin: ['Toulouse', 'Bordeaux', 'Paris']}}, {$set: {prime: 1500}})\n",
    "```"
   ]
  }
 ],
 "metadata": {
  "kernelspec": {
   "display_name": "Python 3",
   "language": "python",
   "name": "python3"
  },
  "language_info": {
   "name": "python",
   "version": "3.8"
  }
 },
 "nbformat": 4,
 "nbformat_minor": 5
}
